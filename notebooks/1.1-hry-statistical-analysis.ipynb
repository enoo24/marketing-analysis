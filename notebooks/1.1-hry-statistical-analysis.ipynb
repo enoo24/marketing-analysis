{
 "cells": [
  {
   "cell_type": "code",
   "execution_count": 38,
   "id": "ea8d78c5",
   "metadata": {},
   "outputs": [],
   "source": [
    "# Import packages for data understanding and EDA\n",
    "import numpy as np\n",
    "import pandas as pd\n",
    "import matplotlib.pyplot as plt\n",
    "import seaborn as sns\n",
    "import scipy\n",
    "from scipy.stats import ttest_ind\n",
    "import statsmodels.formula.api as smf\n",
    "plt.style.use('fivethirtyeight')\n",
    "\n",
    "import warnings\n",
    "warnings.filterwarnings('ignore')\n",
    "%matplotlib inline\n",
    "np.random.seed(42)"
   ]
  },
  {
   "cell_type": "markdown",
   "id": "d3e90e08",
   "metadata": {},
   "source": [
    "### Get the data"
   ]
  },
  {
   "cell_type": "code",
   "execution_count": 2,
   "id": "9f37d7d4",
   "metadata": {},
   "outputs": [
    {
     "data": {
      "text/html": [
       "<div>\n",
       "<style scoped>\n",
       "    .dataframe tbody tr th:only-of-type {\n",
       "        vertical-align: middle;\n",
       "    }\n",
       "\n",
       "    .dataframe tbody tr th {\n",
       "        vertical-align: top;\n",
       "    }\n",
       "\n",
       "    .dataframe thead th {\n",
       "        text-align: right;\n",
       "    }\n",
       "</style>\n",
       "<table border=\"1\" class=\"dataframe\">\n",
       "  <thead>\n",
       "    <tr style=\"text-align: right;\">\n",
       "      <th></th>\n",
       "      <th>Education</th>\n",
       "      <th>Marital_Status</th>\n",
       "      <th>Income</th>\n",
       "      <th>Days_Since_Enrolled</th>\n",
       "      <th>Recency</th>\n",
       "      <th>MntWines</th>\n",
       "      <th>MntFruits</th>\n",
       "      <th>MntMeatProducts</th>\n",
       "      <th>MntFishProducts</th>\n",
       "      <th>MntSweetProducts</th>\n",
       "      <th>...</th>\n",
       "      <th>AcceptedCmp4</th>\n",
       "      <th>AcceptedCmp5</th>\n",
       "      <th>AcceptedCmp1</th>\n",
       "      <th>AcceptedCmp2</th>\n",
       "      <th>Response</th>\n",
       "      <th>Complain</th>\n",
       "      <th>Country</th>\n",
       "      <th>HasKid</th>\n",
       "      <th>HasTeen</th>\n",
       "      <th>Age</th>\n",
       "    </tr>\n",
       "  </thead>\n",
       "  <tbody>\n",
       "    <tr>\n",
       "      <th>0</th>\n",
       "      <td>Bachelor</td>\n",
       "      <td>Divorced</td>\n",
       "      <td>84835.0</td>\n",
       "      <td>2378</td>\n",
       "      <td>0</td>\n",
       "      <td>189</td>\n",
       "      <td>104</td>\n",
       "      <td>379</td>\n",
       "      <td>111</td>\n",
       "      <td>189</td>\n",
       "      <td>...</td>\n",
       "      <td>0</td>\n",
       "      <td>0</td>\n",
       "      <td>0</td>\n",
       "      <td>0</td>\n",
       "      <td>1</td>\n",
       "      <td>0</td>\n",
       "      <td>SP</td>\n",
       "      <td>0</td>\n",
       "      <td>0</td>\n",
       "      <td>50</td>\n",
       "    </tr>\n",
       "    <tr>\n",
       "      <th>1</th>\n",
       "      <td>Bachelor</td>\n",
       "      <td>Single</td>\n",
       "      <td>57091.0</td>\n",
       "      <td>2379</td>\n",
       "      <td>0</td>\n",
       "      <td>464</td>\n",
       "      <td>5</td>\n",
       "      <td>64</td>\n",
       "      <td>7</td>\n",
       "      <td>0</td>\n",
       "      <td>...</td>\n",
       "      <td>0</td>\n",
       "      <td>0</td>\n",
       "      <td>0</td>\n",
       "      <td>1</td>\n",
       "      <td>1</td>\n",
       "      <td>0</td>\n",
       "      <td>CA</td>\n",
       "      <td>0</td>\n",
       "      <td>0</td>\n",
       "      <td>59</td>\n",
       "    </tr>\n",
       "    <tr>\n",
       "      <th>2</th>\n",
       "      <td>Bachelor</td>\n",
       "      <td>Married</td>\n",
       "      <td>67267.0</td>\n",
       "      <td>2412</td>\n",
       "      <td>0</td>\n",
       "      <td>134</td>\n",
       "      <td>11</td>\n",
       "      <td>59</td>\n",
       "      <td>15</td>\n",
       "      <td>2</td>\n",
       "      <td>...</td>\n",
       "      <td>0</td>\n",
       "      <td>0</td>\n",
       "      <td>0</td>\n",
       "      <td>0</td>\n",
       "      <td>0</td>\n",
       "      <td>0</td>\n",
       "      <td>US</td>\n",
       "      <td>0</td>\n",
       "      <td>1</td>\n",
       "      <td>62</td>\n",
       "    </tr>\n",
       "    <tr>\n",
       "      <th>3</th>\n",
       "      <td>Bachelor</td>\n",
       "      <td>Together</td>\n",
       "      <td>32474.0</td>\n",
       "      <td>2414</td>\n",
       "      <td>0</td>\n",
       "      <td>10</td>\n",
       "      <td>0</td>\n",
       "      <td>1</td>\n",
       "      <td>0</td>\n",
       "      <td>0</td>\n",
       "      <td>...</td>\n",
       "      <td>0</td>\n",
       "      <td>0</td>\n",
       "      <td>0</td>\n",
       "      <td>0</td>\n",
       "      <td>0</td>\n",
       "      <td>0</td>\n",
       "      <td>AU</td>\n",
       "      <td>1</td>\n",
       "      <td>1</td>\n",
       "      <td>53</td>\n",
       "    </tr>\n",
       "    <tr>\n",
       "      <th>4</th>\n",
       "      <td>Bachelor</td>\n",
       "      <td>Single</td>\n",
       "      <td>21474.0</td>\n",
       "      <td>2447</td>\n",
       "      <td>0</td>\n",
       "      <td>6</td>\n",
       "      <td>16</td>\n",
       "      <td>24</td>\n",
       "      <td>11</td>\n",
       "      <td>0</td>\n",
       "      <td>...</td>\n",
       "      <td>0</td>\n",
       "      <td>0</td>\n",
       "      <td>0</td>\n",
       "      <td>0</td>\n",
       "      <td>1</td>\n",
       "      <td>0</td>\n",
       "      <td>SP</td>\n",
       "      <td>1</td>\n",
       "      <td>0</td>\n",
       "      <td>31</td>\n",
       "    </tr>\n",
       "  </tbody>\n",
       "</table>\n",
       "<p>5 rows × 27 columns</p>\n",
       "</div>"
      ],
      "text/plain": [
       "  Education Marital_Status   Income  Days_Since_Enrolled  Recency  MntWines  \\\n",
       "0  Bachelor       Divorced  84835.0                 2378        0       189   \n",
       "1  Bachelor         Single  57091.0                 2379        0       464   \n",
       "2  Bachelor        Married  67267.0                 2412        0       134   \n",
       "3  Bachelor       Together  32474.0                 2414        0        10   \n",
       "4  Bachelor         Single  21474.0                 2447        0         6   \n",
       "\n",
       "   MntFruits  MntMeatProducts  MntFishProducts  MntSweetProducts  ...  \\\n",
       "0        104              379              111               189  ...   \n",
       "1          5               64                7                 0  ...   \n",
       "2         11               59               15                 2  ...   \n",
       "3          0                1                0                 0  ...   \n",
       "4         16               24               11                 0  ...   \n",
       "\n",
       "   AcceptedCmp4  AcceptedCmp5  AcceptedCmp1  AcceptedCmp2  Response  Complain  \\\n",
       "0             0             0             0             0         1         0   \n",
       "1             0             0             0             1         1         0   \n",
       "2             0             0             0             0         0         0   \n",
       "3             0             0             0             0         0         0   \n",
       "4             0             0             0             0         1         0   \n",
       "\n",
       "   Country  HasKid  HasTeen  Age  \n",
       "0       SP       0        0   50  \n",
       "1       CA       0        0   59  \n",
       "2       US       0        1   62  \n",
       "3       AU       1        1   53  \n",
       "4       SP       1        0   31  \n",
       "\n",
       "[5 rows x 27 columns]"
      ]
     },
     "execution_count": 2,
     "metadata": {},
     "output_type": "execute_result"
    }
   ],
   "source": [
    "data = pd.read_csv('../data/interim/marketing_data_eda_output.csv')\n",
    "data.head()"
   ]
  },
  {
   "cell_type": "code",
   "execution_count": 3,
   "id": "62db96cb",
   "metadata": {},
   "outputs": [
    {
     "name": "stdout",
     "output_type": "stream",
     "text": [
      "<class 'pandas.core.frame.DataFrame'>\n",
      "RangeIndex: 2214 entries, 0 to 2213\n",
      "Data columns (total 27 columns):\n",
      " #   Column               Non-Null Count  Dtype  \n",
      "---  ------               --------------  -----  \n",
      " 0   Education            2214 non-null   object \n",
      " 1   Marital_Status       2214 non-null   object \n",
      " 2   Income               2214 non-null   float64\n",
      " 3   Days_Since_Enrolled  2214 non-null   int64  \n",
      " 4   Recency              2214 non-null   int64  \n",
      " 5   MntWines             2214 non-null   int64  \n",
      " 6   MntFruits            2214 non-null   int64  \n",
      " 7   MntMeatProducts      2214 non-null   int64  \n",
      " 8   MntFishProducts      2214 non-null   int64  \n",
      " 9   MntSweetProducts     2214 non-null   int64  \n",
      " 10  MntGoldProds         2214 non-null   int64  \n",
      " 11  NumDealsPurchases    2214 non-null   int64  \n",
      " 12  NumWebPurchases      2214 non-null   int64  \n",
      " 13  NumCatalogPurchases  2214 non-null   int64  \n",
      " 14  NumStorePurchases    2214 non-null   int64  \n",
      " 15  NumWebVisitsMonth    2214 non-null   int64  \n",
      " 16  AcceptedCmp3         2214 non-null   int64  \n",
      " 17  AcceptedCmp4         2214 non-null   int64  \n",
      " 18  AcceptedCmp5         2214 non-null   int64  \n",
      " 19  AcceptedCmp1         2214 non-null   int64  \n",
      " 20  AcceptedCmp2         2214 non-null   int64  \n",
      " 21  Response             2214 non-null   int64  \n",
      " 22  Complain             2214 non-null   int64  \n",
      " 23  Country              2214 non-null   object \n",
      " 24  HasKid               2214 non-null   int64  \n",
      " 25  HasTeen              2214 non-null   int64  \n",
      " 26  Age                  2214 non-null   int64  \n",
      "dtypes: float64(1), int64(23), object(3)\n",
      "memory usage: 467.1+ KB\n"
     ]
    }
   ],
   "source": [
    "data.info()"
   ]
  },
  {
   "cell_type": "markdown",
   "id": "608c0509",
   "metadata": {},
   "source": [
    "### Answering some questions"
   ]
  },
  {
   "cell_type": "markdown",
   "id": "8c753cf4",
   "metadata": {},
   "source": [
    "In this section, we will perform statistical analysis to answer the following questions. For each question, we will provide a brief explanation of the findings, suitable for non-technical users:\n",
    "1. What factors are significantly related to the number of store purchases?\n",
    "2. Does US fare significantly better than the Rest of the World in terms of total purchases?\n",
    "3. Your supervisor insists that people who buy gold are more conservative. Therefore, people who spent an above average amount on gold in the last 2 years would have more in store purchases. Justify or refute this statemenet using an appropriate statistical test\n",
    "4. Fish has Omega 3 fatty acids which are good for the brain. Accordingly, do \"Married PhD candidates\" have a significant relation with amount spent on fish?\n",
    "5. Is there a significant relationship between geographical regional and success of a campaign?"
   ]
  },
  {
   "cell_type": "markdown",
   "id": "0be0cec9",
   "metadata": {},
   "source": [
    "#### Question 1: What factors are significantly related to the number of store purchases?"
   ]
  },
  {
   "cell_type": "markdown",
   "id": "93583407",
   "metadata": {},
   "source": [
    "For this question, we will build a correlation matrix to find correlation coefficient for every features in the dataset. Based on those coefficients we will be able to plot and determine the most significant factors(positive and negative) related to the number of store purchases"
   ]
  },
  {
   "cell_type": "code",
   "execution_count": 7,
   "id": "b623897a",
   "metadata": {},
   "outputs": [
    {
     "data": {
      "text/html": [
       "<div>\n",
       "<style scoped>\n",
       "    .dataframe tbody tr th:only-of-type {\n",
       "        vertical-align: middle;\n",
       "    }\n",
       "\n",
       "    .dataframe tbody tr th {\n",
       "        vertical-align: top;\n",
       "    }\n",
       "\n",
       "    .dataframe thead th {\n",
       "        text-align: right;\n",
       "    }\n",
       "</style>\n",
       "<table border=\"1\" class=\"dataframe\">\n",
       "  <thead>\n",
       "    <tr style=\"text-align: right;\">\n",
       "      <th></th>\n",
       "      <th>Income</th>\n",
       "      <th>Days_Since_Enrolled</th>\n",
       "      <th>Recency</th>\n",
       "      <th>MntWines</th>\n",
       "      <th>MntFruits</th>\n",
       "      <th>MntMeatProducts</th>\n",
       "      <th>MntFishProducts</th>\n",
       "      <th>MntSweetProducts</th>\n",
       "      <th>MntGoldProds</th>\n",
       "      <th>NumDealsPurchases</th>\n",
       "      <th>...</th>\n",
       "      <th>Marital_Status_Single</th>\n",
       "      <th>Marital_Status_Together</th>\n",
       "      <th>Marital_Status_Widow</th>\n",
       "      <th>Country_CA</th>\n",
       "      <th>Country_DE</th>\n",
       "      <th>Country_IN</th>\n",
       "      <th>Country_ME</th>\n",
       "      <th>Country_SA</th>\n",
       "      <th>Country_SP</th>\n",
       "      <th>Country_US</th>\n",
       "    </tr>\n",
       "  </thead>\n",
       "  <tbody>\n",
       "    <tr>\n",
       "      <th>0</th>\n",
       "      <td>84835.0</td>\n",
       "      <td>2378</td>\n",
       "      <td>0</td>\n",
       "      <td>189</td>\n",
       "      <td>104</td>\n",
       "      <td>379</td>\n",
       "      <td>111</td>\n",
       "      <td>189</td>\n",
       "      <td>218</td>\n",
       "      <td>1</td>\n",
       "      <td>...</td>\n",
       "      <td>0</td>\n",
       "      <td>0</td>\n",
       "      <td>0</td>\n",
       "      <td>0</td>\n",
       "      <td>0</td>\n",
       "      <td>0</td>\n",
       "      <td>0</td>\n",
       "      <td>0</td>\n",
       "      <td>1</td>\n",
       "      <td>0</td>\n",
       "    </tr>\n",
       "    <tr>\n",
       "      <th>1</th>\n",
       "      <td>57091.0</td>\n",
       "      <td>2379</td>\n",
       "      <td>0</td>\n",
       "      <td>464</td>\n",
       "      <td>5</td>\n",
       "      <td>64</td>\n",
       "      <td>7</td>\n",
       "      <td>0</td>\n",
       "      <td>37</td>\n",
       "      <td>1</td>\n",
       "      <td>...</td>\n",
       "      <td>1</td>\n",
       "      <td>0</td>\n",
       "      <td>0</td>\n",
       "      <td>1</td>\n",
       "      <td>0</td>\n",
       "      <td>0</td>\n",
       "      <td>0</td>\n",
       "      <td>0</td>\n",
       "      <td>0</td>\n",
       "      <td>0</td>\n",
       "    </tr>\n",
       "    <tr>\n",
       "      <th>2</th>\n",
       "      <td>67267.0</td>\n",
       "      <td>2412</td>\n",
       "      <td>0</td>\n",
       "      <td>134</td>\n",
       "      <td>11</td>\n",
       "      <td>59</td>\n",
       "      <td>15</td>\n",
       "      <td>2</td>\n",
       "      <td>30</td>\n",
       "      <td>1</td>\n",
       "      <td>...</td>\n",
       "      <td>0</td>\n",
       "      <td>0</td>\n",
       "      <td>0</td>\n",
       "      <td>0</td>\n",
       "      <td>0</td>\n",
       "      <td>0</td>\n",
       "      <td>0</td>\n",
       "      <td>0</td>\n",
       "      <td>0</td>\n",
       "      <td>1</td>\n",
       "    </tr>\n",
       "    <tr>\n",
       "      <th>3</th>\n",
       "      <td>32474.0</td>\n",
       "      <td>2414</td>\n",
       "      <td>0</td>\n",
       "      <td>10</td>\n",
       "      <td>0</td>\n",
       "      <td>1</td>\n",
       "      <td>0</td>\n",
       "      <td>0</td>\n",
       "      <td>0</td>\n",
       "      <td>1</td>\n",
       "      <td>...</td>\n",
       "      <td>0</td>\n",
       "      <td>1</td>\n",
       "      <td>0</td>\n",
       "      <td>0</td>\n",
       "      <td>0</td>\n",
       "      <td>0</td>\n",
       "      <td>0</td>\n",
       "      <td>0</td>\n",
       "      <td>0</td>\n",
       "      <td>0</td>\n",
       "    </tr>\n",
       "    <tr>\n",
       "      <th>4</th>\n",
       "      <td>21474.0</td>\n",
       "      <td>2447</td>\n",
       "      <td>0</td>\n",
       "      <td>6</td>\n",
       "      <td>16</td>\n",
       "      <td>24</td>\n",
       "      <td>11</td>\n",
       "      <td>0</td>\n",
       "      <td>34</td>\n",
       "      <td>2</td>\n",
       "      <td>...</td>\n",
       "      <td>1</td>\n",
       "      <td>0</td>\n",
       "      <td>0</td>\n",
       "      <td>0</td>\n",
       "      <td>0</td>\n",
       "      <td>0</td>\n",
       "      <td>0</td>\n",
       "      <td>0</td>\n",
       "      <td>1</td>\n",
       "      <td>0</td>\n",
       "    </tr>\n",
       "  </tbody>\n",
       "</table>\n",
       "<p>5 rows × 38 columns</p>\n",
       "</div>"
      ],
      "text/plain": [
       "    Income  Days_Since_Enrolled  Recency  MntWines  MntFruits  \\\n",
       "0  84835.0                 2378        0       189        104   \n",
       "1  57091.0                 2379        0       464          5   \n",
       "2  67267.0                 2412        0       134         11   \n",
       "3  32474.0                 2414        0        10          0   \n",
       "4  21474.0                 2447        0         6         16   \n",
       "\n",
       "   MntMeatProducts  MntFishProducts  MntSweetProducts  MntGoldProds  \\\n",
       "0              379              111               189           218   \n",
       "1               64                7                 0            37   \n",
       "2               59               15                 2            30   \n",
       "3                1                0                 0             0   \n",
       "4               24               11                 0            34   \n",
       "\n",
       "   NumDealsPurchases  ...  Marital_Status_Single  Marital_Status_Together  \\\n",
       "0                  1  ...                      0                        0   \n",
       "1                  1  ...                      1                        0   \n",
       "2                  1  ...                      0                        0   \n",
       "3                  1  ...                      0                        1   \n",
       "4                  2  ...                      1                        0   \n",
       "\n",
       "   Marital_Status_Widow  Country_CA  Country_DE  Country_IN  Country_ME  \\\n",
       "0                     0           0           0           0           0   \n",
       "1                     0           1           0           0           0   \n",
       "2                     0           0           0           0           0   \n",
       "3                     0           0           0           0           0   \n",
       "4                     0           0           0           0           0   \n",
       "\n",
       "   Country_SA  Country_SP  Country_US  \n",
       "0           0           1           0  \n",
       "1           0           0           0  \n",
       "2           0           0           1  \n",
       "3           0           0           0  \n",
       "4           0           1           0  \n",
       "\n",
       "[5 rows x 38 columns]"
      ]
     },
     "execution_count": 7,
     "metadata": {},
     "output_type": "execute_result"
    }
   ],
   "source": [
    "q1_data = pd.get_dummies(data, columns=['Education', 'Marital_Status', 'Country'],\n",
    "                        drop_first=True, prefix=['Education', 'Marital_Status', 'Country'],\n",
    "                        prefix_sep='_')\n",
    "q1_data.head()"
   ]
  },
  {
   "cell_type": "code",
   "execution_count": 21,
   "id": "309589e8",
   "metadata": {},
   "outputs": [
    {
     "data": {
      "image/png": "[encoded data removed]",
      "text/plain": [
       "<Figure size 1008x504 with 1 Axes>"
      ]
     },
     "metadata": {
      "needs_background": "light"
     },
     "output_type": "display_data"
    }
   ],
   "source": [
    "correlation_coeff = q1_data.corr()['NumStorePurchases'].sort_values(ascending=False)[1:]\n",
    "\n",
    "fig = plt.subplots(figsize=(14, 7))\n",
    "sns.barplot(correlation_coeff.index, correlation_coeff)\n",
    "plt.xticks(rotation=90)\n",
    "plt.ylabel('Coefficient')\n",
    "plt.xlabel('Variable')\n",
    "plt.title('Correlation Coefficient of NumStorePurchases VS. Others')\n",
    "plt.show()"
   ]
  },
  {
   "cell_type": "markdown",
   "id": "5c12381c",
   "metadata": {},
   "source": [
    "From the chart, we can conclude that the 6 factors are most significantly related to number of store purchases. Among the 6 factors:\n",
    "- Positive effect: **MntWines**, **Income**, **NumCatalogPurchases**, and **NumWebPurchases** have a positive effect on the number of store purchases in decreasing order. This means that as the values of these variable increase, the number of store purchases also increases, with **MntWines** having the largest effect on the number of store purchases\n",
    "- Negative effect: On the other hand, **HasKid** and **NumWebVisitsMonth** have a negative effect on the number of store purchases in decreasing order. This means that as the values of these variables increase, the number of store purchases decreases, with **NumWebVisitsMonth** having the largest negative effect on the number of store purchases"
   ]
  },
  {
   "cell_type": "markdown",
   "id": "8c0ca9ea",
   "metadata": {},
   "source": [
    "#### Question 2: Does US fare significantly better than the Rest of the World in terms of total purchases"
   ]
  },
  {
   "cell_type": "markdown",
   "id": "7ff07306",
   "metadata": {},
   "source": [
    "For this question, we will tabulate the total purchases of each country. Then we will visualize this information for US as compared to the rest of the world"
   ]
  },
  {
   "cell_type": "code",
   "execution_count": 24,
   "id": "3303a975",
   "metadata": {},
   "outputs": [
    {
     "data": {
      "text/plain": [
       "Country\n",
       "SP    15992\n",
       "SA     5113\n",
       "CA     4065\n",
       "AU     2156\n",
       "IN     2098\n",
       "US     1743\n",
       "DE     1731\n",
       "ME       59\n",
       "dtype: int64"
      ]
     },
     "execution_count": 24,
     "metadata": {},
     "output_type": "execute_result"
    }
   ],
   "source": [
    "q2_data = data.loc[:, ['NumDealsPurchases', 'NumWebPurchases', 'NumCatalogPurchases',\n",
    "                      'NumStorePurchases', 'Country']]\n",
    "q2_data = q2_data.groupby('Country').sum().sum(axis=1).sort_values(ascending=False)\n",
    "q2_data"
   ]
  },
  {
   "cell_type": "code",
   "execution_count": 26,
   "id": "72d6593d",
   "metadata": {},
   "outputs": [
    {
     "data": {
      "image/png": "[encoded data removed]",
      "text/plain": [
       "<Figure size 576x432 with 1 Axes>"
      ]
     },
     "metadata": {
      "needs_background": "light"
     },
     "output_type": "display_data"
    }
   ],
   "source": [
    "fig = plt.subplots(figsize=(8, 6))\n",
    "sns.barplot(q2_data.index, q2_data)\n",
    "plt.ylabel('Total purchases')\n",
    "plt.xlabel('Country')\n",
    "plt.title('Total Purchases Across Countries')\n",
    "plt.show()"
   ]
  },
  {
   "cell_type": "markdown",
   "id": "dbb1b6e6",
   "metadata": {},
   "source": [
    "From chart above, we can clearly see that the US is third to last in terms of total purchases, only ahead of Mexico and Germany. Thus, US definitely does not fare better than the rest of the world in terms of total purchases"
   ]
  },
  {
   "cell_type": "markdown",
   "id": "712fe6dc",
   "metadata": {},
   "source": [
    "Let's take a look if the US fares better in terms of average purchases per customer"
   ]
  },
  {
   "cell_type": "code",
   "execution_count": 27,
   "id": "847ea0ce",
   "metadata": {},
   "outputs": [
    {
     "data": {
      "text/plain": [
       "Country\n",
       "ME    19.666667\n",
       "DE    16.177570\n",
       "CA    15.281955\n",
       "SA    15.217262\n",
       "US    15.025862\n",
       "AU    14.666667\n",
       "SP    14.644689\n",
       "IN    14.272109\n",
       "dtype: float64"
      ]
     },
     "execution_count": 27,
     "metadata": {},
     "output_type": "execute_result"
    }
   ],
   "source": [
    "num_cust = data['Country']\n",
    "num_cust = num_cust.value_counts()\n",
    "\n",
    "avg_purchase = (q2_data / num_cust.to_numpy()).sort_values(ascending=False)\n",
    "avg_purchase"
   ]
  },
  {
   "cell_type": "code",
   "execution_count": 28,
   "id": "6b596918",
   "metadata": {},
   "outputs": [
    {
     "data": {
      "image/png": "[encoded data removed]",
      "text/plain": [
       "<Figure size 576x432 with 1 Axes>"
      ]
     },
     "metadata": {
      "needs_background": "light"
     },
     "output_type": "display_data"
    }
   ],
   "source": [
    "fig = plt.subplots(figsize=(8, 6))\n",
    "sns.barplot(avg_purchase.index, avg_purchase)\n",
    "plt.ylabel('Average purchases')\n",
    "plt.xlabel('Country')\n",
    "plt.title('Average Purchases Across Countries')\n",
    "plt.show()"
   ]
  },
  {
   "cell_type": "markdown",
   "id": "1fede1f5",
   "metadata": {},
   "source": [
    "From this, we can also see that the US does not fare better than the rest of the world, being significantly behind Mexico in terms of average purchases per customer, and very close to all other countries"
   ]
  },
  {
   "cell_type": "markdown",
   "id": "59a5c437",
   "metadata": {},
   "source": [
    "Let's take a look if the US fares better in terms of total purchases amounts. For this, we will total the values in the 6 columns, **MntWines**, **MntFruits**, **MntMeatProducts**, **MntFishProducts**, **MntSweetProducts**, and **MntGoldProds**"
   ]
  },
  {
   "cell_type": "code",
   "execution_count": 29,
   "id": "3891f3cb",
   "metadata": {},
   "outputs": [
    {
     "data": {
      "text/plain": [
       "Country\n",
       "SP    657704\n",
       "SA    211049\n",
       "CA    167403\n",
       "AU     85576\n",
       "IN     77806\n",
       "DE     73198\n",
       "US     67546\n",
       "ME      3122\n",
       "dtype: int64"
      ]
     },
     "execution_count": 29,
     "metadata": {},
     "output_type": "execute_result"
    }
   ],
   "source": [
    "total_value = data[['MntWines', 'MntFruits', 'MntMeatProducts',\n",
    "                   'MntFishProducts', 'MntSweetProducts', 'MntGoldProds',\n",
    "                   'Country']]\n",
    "total_value = total_value.groupby('Country').sum().sum(axis=1).sort_values(ascending=False)\n",
    "total_value"
   ]
  },
  {
   "cell_type": "code",
   "execution_count": 30,
   "id": "4ae3491b",
   "metadata": {},
   "outputs": [
    {
     "data": {
      "image/png": "[encoded data removed]",
      "text/plain": [
       "<Figure size 576x432 with 1 Axes>"
      ]
     },
     "metadata": {
      "needs_background": "light"
     },
     "output_type": "display_data"
    }
   ],
   "source": [
    "fig = plt.subplots(figsize=(8, 6))\n",
    "sns.barplot(total_value.index, total_value)\n",
    "plt.ylabel('Total purchase value')\n",
    "plt.xlabel('Country')\n",
    "plt.title('Total Purchase Value Across Countries')\n",
    "plt.show()"
   ]
  },
  {
   "cell_type": "markdown",
   "id": "60acd116",
   "metadata": {},
   "source": [
    "In terms of total purchase value, US is second to last, only ahead of Mexico. Thus, we can conclude with certainty that US does not fare better than the rest of the world in terms of total purchases"
   ]
  },
  {
   "cell_type": "markdown",
   "id": "6311eec1",
   "metadata": {},
   "source": [
    "#### Question 3: Your supervisor insists that people who buy gold are more conservative. Therefore, people who spent an above average amount of gold in the last 2 years would have more in store purchases. Justify or refute this statement using an appropriate statistical test"
   ]
  },
  {
   "cell_type": "markdown",
   "id": "8032a3e5",
   "metadata": {},
   "source": [
    "For this question, we will first tabulate the data (number of in store purchases) for 2 population groups, those with above average spending on gold, and thus with average or lower spending on gold.\n",
    "\n",
    "Then, we will perform a T-test for population means to determine if there is statistical evidence to support the claim that people who spent an above average amount of gold also has more in store purchases"
   ]
  },
  {
   "cell_type": "markdown",
   "id": "b2927d28",
   "metadata": {},
   "source": [
    "We first set up the hypothesis test:\n",
    "\n",
    "Ho: Store purchases of people who spend more on gold <= store purchases of people who spend less on gold\n",
    "\n",
    "Ha: Store purchases of people who spend more on gold > store purchases of people who spend less on gold"
   ]
  },
  {
   "cell_type": "markdown",
   "id": "8604be16",
   "metadata": {},
   "source": [
    "Next, we check if the 2 samples have equal variances"
   ]
  },
  {
   "cell_type": "code",
   "execution_count": 32,
   "id": "bab96fd0",
   "metadata": {},
   "outputs": [
    {
     "data": {
      "text/html": [
       "<div>\n",
       "<style scoped>\n",
       "    .dataframe tbody tr th:only-of-type {\n",
       "        vertical-align: middle;\n",
       "    }\n",
       "\n",
       "    .dataframe tbody tr th {\n",
       "        vertical-align: top;\n",
       "    }\n",
       "\n",
       "    .dataframe thead th {\n",
       "        text-align: right;\n",
       "    }\n",
       "</style>\n",
       "<table border=\"1\" class=\"dataframe\">\n",
       "  <thead>\n",
       "    <tr style=\"text-align: right;\">\n",
       "      <th></th>\n",
       "      <th>MntGoldProds</th>\n",
       "      <th>NumStorePurchases</th>\n",
       "      <th>AboveAvg</th>\n",
       "    </tr>\n",
       "  </thead>\n",
       "  <tbody>\n",
       "    <tr>\n",
       "      <th>0</th>\n",
       "      <td>218</td>\n",
       "      <td>6</td>\n",
       "      <td>Yes</td>\n",
       "    </tr>\n",
       "    <tr>\n",
       "      <th>1</th>\n",
       "      <td>37</td>\n",
       "      <td>7</td>\n",
       "      <td>No</td>\n",
       "    </tr>\n",
       "    <tr>\n",
       "      <th>2</th>\n",
       "      <td>30</td>\n",
       "      <td>5</td>\n",
       "      <td>No</td>\n",
       "    </tr>\n",
       "    <tr>\n",
       "      <th>3</th>\n",
       "      <td>0</td>\n",
       "      <td>2</td>\n",
       "      <td>No</td>\n",
       "    </tr>\n",
       "    <tr>\n",
       "      <th>4</th>\n",
       "      <td>34</td>\n",
       "      <td>2</td>\n",
       "      <td>No</td>\n",
       "    </tr>\n",
       "  </tbody>\n",
       "</table>\n",
       "</div>"
      ],
      "text/plain": [
       "   MntGoldProds  NumStorePurchases AboveAvg\n",
       "0           218                  6      Yes\n",
       "1            37                  7       No\n",
       "2            30                  5       No\n",
       "3             0                  2       No\n",
       "4            34                  2       No"
      ]
     },
     "execution_count": 32,
     "metadata": {},
     "output_type": "execute_result"
    }
   ],
   "source": [
    "gold_purchase = data[['MntGoldProds', 'NumStorePurchases']]\n",
    "gold_purchase['AboveAvg'] = np.where(gold_purchase['MntGoldProds'] > gold_purchase['MntGoldProds'].mean(), 'Yes', 'No')\n",
    "gold_purchase.head()"
   ]
  },
  {
   "cell_type": "code",
   "execution_count": 34,
   "id": "d59946aa",
   "metadata": {},
   "outputs": [
    {
     "name": "stdout",
     "output_type": "stream",
     "text": [
      "LeveneResult(statistic=18.93070525970288, pvalue=1.4171532169420453e-05)\n"
     ]
    }
   ],
   "source": [
    "above_avg_gold_buyers = gold_purchase[gold_purchase['AboveAvg'] == 'Yes']['NumStorePurchases']\n",
    "non_above_avg_gold_buyers = gold_purchase[gold_purchase['AboveAvg'] == 'No']['NumStorePurchases']\n",
    "\n",
    "print(scipy.stats.levene(above_avg_gold_buyers, non_above_avg_gold_buyers))"
   ]
  },
  {
   "cell_type": "markdown",
   "id": "25c2b666",
   "metadata": {},
   "source": [
    "Based on the result above, the P-value is very small, thus we reject the null hypothesis that the variances are equal.\n",
    "\n",
    "Next, we will perform 2 sample T-test for Unequal Variances"
   ]
  },
  {
   "cell_type": "code",
   "execution_count": 36,
   "id": "94d8b6b1",
   "metadata": {},
   "outputs": [
    {
     "name": "stdout",
     "output_type": "stream",
     "text": [
      "At 0.05 significance level, \n",
      "\n",
      "For 2-tailed test:\n",
      "With P-Value of 9.660299353854847e-85 null hypothesis is rejected. Population means are not equal\n",
      "\n",
      "For 1-tailed test:\n",
      "With P-Value of 9.660299353854847e-85 null hypothesis is rejected. \n",
      "Store purchases of people who spend more on gold > store purchases of people who spend less\n"
     ]
    }
   ],
   "source": [
    "def t_test(x, y, alternative='equal'):\n",
    "    _, double_p = ttest_ind(x, y, equal_var=False)\n",
    "    \n",
    "    if alternative == 'equal':\n",
    "        pval = double_p\n",
    "    elif alternative == 'greater':\n",
    "        if np.mean(x) > np.mean(y):\n",
    "            pval = double_p / 2\n",
    "        else:\n",
    "            pval = 1.0 - double_p / 2\n",
    "    elif alternative == 'less':\n",
    "        if np.mean(x) < np.mean(y):\n",
    "            pval = double_p / 2\n",
    "        else:\n",
    "            pval = 1.0 - double_p / 2\n",
    "            \n",
    "    return pval\n",
    "\n",
    "print('At 0.05 significance level, \\n')\n",
    "\n",
    "p = t_test(above_avg_gold_buyers, non_above_avg_gold_buyers, alternative='equal')\n",
    "\n",
    "if p > 0.05:\n",
    "    print('For 2-tailed test:\\nWith P-Value of', p, 'we fail to reject the null hypothesis. Population means are equal\\n')\n",
    "else:\n",
    "    print('For 2-tailed test:\\nWith P-Value of', p, 'null hypothesis is rejected. Population means are not equal\\n')\n",
    "    \n",
    "p2 = t_test(above_avg_gold_buyers, non_above_avg_gold_buyers, alternative='greater')\n",
    "\n",
    "if p2 > 0.05:\n",
    "    print('For 1-tailed test:\\nWith P-Value of', p, 'we fail to reject the null hypothesis. \\nStore purchases of people who spend more on gold < store purchases of people who spend less')\n",
    "else:\n",
    "    print('For 1-tailed test:\\nWith P-Value of', p, 'null hypothesis is rejected. \\nStore purchases of people who spend more on gold > store purchases of people who spend less')"
   ]
  },
  {
   "cell_type": "markdown",
   "id": "ecbb634d",
   "metadata": {},
   "source": [
    "Based on the hypothesis test, we can conclude that store purchases of people who spend more on gold is greater than store purchases of people who spend less on gold. Thus, the supervisor's claim is justified statistically. **But**, the high number in store purchases by people who spend more on gold might also be driven by other factors, especially **Income**"
   ]
  },
  {
   "cell_type": "markdown",
   "id": "9d0ef5d3",
   "metadata": {},
   "source": [
    "#### Question 4: Fish has Omega 3 fatty acids which are good for the brain. Accordingly, do \"Married PhD candidates\" have a significant relation with amount spent on fish? What other factors are significantly related to amount spent on fish?"
   ]
  },
  {
   "cell_type": "markdown",
   "id": "f3601d6b",
   "metadata": {},
   "source": [
    "For this question, we will build a multiple linear regression model to predict the amount spent on fish products. Based on the coefficients of the model, we will be able to plot and determine the most significant factors(positive and negative) related to the amount spent on fish products, and identify if married PhD candidates is a strong factor"
   ]
  },
  {
   "cell_type": "code",
   "execution_count": 37,
   "id": "5d8821b4",
   "metadata": {},
   "outputs": [
    {
     "data": {
      "text/html": [
       "<div>\n",
       "<style scoped>\n",
       "    .dataframe tbody tr th:only-of-type {\n",
       "        vertical-align: middle;\n",
       "    }\n",
       "\n",
       "    .dataframe tbody tr th {\n",
       "        vertical-align: top;\n",
       "    }\n",
       "\n",
       "    .dataframe thead th {\n",
       "        text-align: right;\n",
       "    }\n",
       "</style>\n",
       "<table border=\"1\" class=\"dataframe\">\n",
       "  <thead>\n",
       "    <tr style=\"text-align: right;\">\n",
       "      <th></th>\n",
       "      <th>Income</th>\n",
       "      <th>Days_Since_Enrolled</th>\n",
       "      <th>Recency</th>\n",
       "      <th>MntWines</th>\n",
       "      <th>MntFruits</th>\n",
       "      <th>MntMeatProducts</th>\n",
       "      <th>MntFishProducts</th>\n",
       "      <th>MntSweetProducts</th>\n",
       "      <th>MntGoldProds</th>\n",
       "      <th>NumDealsPurchases</th>\n",
       "      <th>...</th>\n",
       "      <th>Marital_Status_Single</th>\n",
       "      <th>Marital_Status_Together</th>\n",
       "      <th>Marital_Status_Widow</th>\n",
       "      <th>Country_CA</th>\n",
       "      <th>Country_DE</th>\n",
       "      <th>Country_IN</th>\n",
       "      <th>Country_ME</th>\n",
       "      <th>Country_SA</th>\n",
       "      <th>Country_SP</th>\n",
       "      <th>Country_US</th>\n",
       "    </tr>\n",
       "  </thead>\n",
       "  <tbody>\n",
       "    <tr>\n",
       "      <th>0</th>\n",
       "      <td>0.517250</td>\n",
       "      <td>0.018598</td>\n",
       "      <td>0.0</td>\n",
       "      <td>0.126591</td>\n",
       "      <td>0.522613</td>\n",
       "      <td>0.219710</td>\n",
       "      <td>0.428571</td>\n",
       "      <td>0.721374</td>\n",
       "      <td>0.679128</td>\n",
       "      <td>0.066667</td>\n",
       "      <td>...</td>\n",
       "      <td>0.0</td>\n",
       "      <td>0.0</td>\n",
       "      <td>0.0</td>\n",
       "      <td>0.0</td>\n",
       "      <td>0.0</td>\n",
       "      <td>0.0</td>\n",
       "      <td>0.0</td>\n",
       "      <td>0.0</td>\n",
       "      <td>1.0</td>\n",
       "      <td>0.0</td>\n",
       "    </tr>\n",
       "    <tr>\n",
       "      <th>1</th>\n",
       "      <td>0.344570</td>\n",
       "      <td>0.020029</td>\n",
       "      <td>0.0</td>\n",
       "      <td>0.310784</td>\n",
       "      <td>0.025126</td>\n",
       "      <td>0.037101</td>\n",
       "      <td>0.027027</td>\n",
       "      <td>0.000000</td>\n",
       "      <td>0.115265</td>\n",
       "      <td>0.066667</td>\n",
       "      <td>...</td>\n",
       "      <td>1.0</td>\n",
       "      <td>0.0</td>\n",
       "      <td>0.0</td>\n",
       "      <td>1.0</td>\n",
       "      <td>0.0</td>\n",
       "      <td>0.0</td>\n",
       "      <td>0.0</td>\n",
       "      <td>0.0</td>\n",
       "      <td>0.0</td>\n",
       "      <td>0.0</td>\n",
       "    </tr>\n",
       "    <tr>\n",
       "      <th>2</th>\n",
       "      <td>0.407906</td>\n",
       "      <td>0.067239</td>\n",
       "      <td>0.0</td>\n",
       "      <td>0.089752</td>\n",
       "      <td>0.055276</td>\n",
       "      <td>0.034203</td>\n",
       "      <td>0.057915</td>\n",
       "      <td>0.007634</td>\n",
       "      <td>0.093458</td>\n",
       "      <td>0.066667</td>\n",
       "      <td>...</td>\n",
       "      <td>0.0</td>\n",
       "      <td>0.0</td>\n",
       "      <td>0.0</td>\n",
       "      <td>0.0</td>\n",
       "      <td>0.0</td>\n",
       "      <td>0.0</td>\n",
       "      <td>0.0</td>\n",
       "      <td>0.0</td>\n",
       "      <td>0.0</td>\n",
       "      <td>1.0</td>\n",
       "    </tr>\n",
       "    <tr>\n",
       "      <th>3</th>\n",
       "      <td>0.191352</td>\n",
       "      <td>0.070100</td>\n",
       "      <td>0.0</td>\n",
       "      <td>0.006698</td>\n",
       "      <td>0.000000</td>\n",
       "      <td>0.000580</td>\n",
       "      <td>0.000000</td>\n",
       "      <td>0.000000</td>\n",
       "      <td>0.000000</td>\n",
       "      <td>0.066667</td>\n",
       "      <td>...</td>\n",
       "      <td>0.0</td>\n",
       "      <td>1.0</td>\n",
       "      <td>0.0</td>\n",
       "      <td>0.0</td>\n",
       "      <td>0.0</td>\n",
       "      <td>0.0</td>\n",
       "      <td>0.0</td>\n",
       "      <td>0.0</td>\n",
       "      <td>0.0</td>\n",
       "      <td>0.0</td>\n",
       "    </tr>\n",
       "    <tr>\n",
       "      <th>4</th>\n",
       "      <td>0.122888</td>\n",
       "      <td>0.117310</td>\n",
       "      <td>0.0</td>\n",
       "      <td>0.004019</td>\n",
       "      <td>0.080402</td>\n",
       "      <td>0.013913</td>\n",
       "      <td>0.042471</td>\n",
       "      <td>0.000000</td>\n",
       "      <td>0.105919</td>\n",
       "      <td>0.133333</td>\n",
       "      <td>...</td>\n",
       "      <td>1.0</td>\n",
       "      <td>0.0</td>\n",
       "      <td>0.0</td>\n",
       "      <td>0.0</td>\n",
       "      <td>0.0</td>\n",
       "      <td>0.0</td>\n",
       "      <td>0.0</td>\n",
       "      <td>0.0</td>\n",
       "      <td>1.0</td>\n",
       "      <td>0.0</td>\n",
       "    </tr>\n",
       "  </tbody>\n",
       "</table>\n",
       "<p>5 rows × 38 columns</p>\n",
       "</div>"
      ],
      "text/plain": [
       "     Income  Days_Since_Enrolled  Recency  MntWines  MntFruits  \\\n",
       "0  0.517250             0.018598      0.0  0.126591   0.522613   \n",
       "1  0.344570             0.020029      0.0  0.310784   0.025126   \n",
       "2  0.407906             0.067239      0.0  0.089752   0.055276   \n",
       "3  0.191352             0.070100      0.0  0.006698   0.000000   \n",
       "4  0.122888             0.117310      0.0  0.004019   0.080402   \n",
       "\n",
       "   MntMeatProducts  MntFishProducts  MntSweetProducts  MntGoldProds  \\\n",
       "0         0.219710         0.428571          0.721374      0.679128   \n",
       "1         0.037101         0.027027          0.000000      0.115265   \n",
       "2         0.034203         0.057915          0.007634      0.093458   \n",
       "3         0.000580         0.000000          0.000000      0.000000   \n",
       "4         0.013913         0.042471          0.000000      0.105919   \n",
       "\n",
       "   NumDealsPurchases  ...  Marital_Status_Single  Marital_Status_Together  \\\n",
       "0           0.066667  ...                    0.0                      0.0   \n",
       "1           0.066667  ...                    1.0                      0.0   \n",
       "2           0.066667  ...                    0.0                      0.0   \n",
       "3           0.066667  ...                    0.0                      1.0   \n",
       "4           0.133333  ...                    1.0                      0.0   \n",
       "\n",
       "   Marital_Status_Widow  Country_CA  Country_DE  Country_IN  Country_ME  \\\n",
       "0                   0.0         0.0         0.0         0.0         0.0   \n",
       "1                   0.0         1.0         0.0         0.0         0.0   \n",
       "2                   0.0         0.0         0.0         0.0         0.0   \n",
       "3                   0.0         0.0         0.0         0.0         0.0   \n",
       "4                   0.0         0.0         0.0         0.0         0.0   \n",
       "\n",
       "   Country_SA  Country_SP  Country_US  \n",
       "0         0.0         1.0         0.0  \n",
       "1         0.0         0.0         0.0  \n",
       "2         0.0         0.0         1.0  \n",
       "3         0.0         0.0         0.0  \n",
       "4         0.0         1.0         0.0  \n",
       "\n",
       "[5 rows x 38 columns]"
      ]
     },
     "execution_count": 37,
     "metadata": {},
     "output_type": "execute_result"
    }
   ],
   "source": [
    "def norm_func(x):\n",
    "    data = (x - x.min()) / (x.max() - x.min())\n",
    "    return (data)\n",
    "\n",
    "q4_data = pd.get_dummies(data, columns=['Education', 'Marital_Status', 'Country'],\n",
    "                        drop_first=True, prefix=['Education', 'Marital_Status', 'Country'],\n",
    "                        prefix_sep='_')\n",
    "\n",
    "scaled_q4_data = norm_func(q4_data.iloc[:, :])\n",
    "scaled_q4_data.head()"
   ]
  },
  {
   "cell_type": "code",
   "execution_count": 42,
   "id": "969a8852",
   "metadata": {},
   "outputs": [
    {
     "data": {
      "text/plain": [
       "Index(['Income', 'Days_Since_Enrolled', 'Recency', 'MntWines', 'MntFruits',\n",
       "       'MntMeatProducts', 'MntFishProducts', 'MntSweetProducts',\n",
       "       'MntGoldProds', 'NumDealsPurchases', 'NumWebPurchases',\n",
       "       'NumCatalogPurchases', 'NumStorePurchases', 'NumWebVisitsMonth',\n",
       "       'AcceptedCmp3', 'AcceptedCmp4', 'AcceptedCmp5', 'AcceptedCmp1',\n",
       "       'AcceptedCmp2', 'Response', 'Complain', 'HasKid', 'HasTeen', 'Age',\n",
       "       'Education_Basic', 'Education_Master', 'Education_PhD',\n",
       "       'Marital_Status_Married', 'Marital_Status_Single',\n",
       "       'Marital_Status_Together', 'Marital_Status_Widow', 'Country_CA',\n",
       "       'Country_DE', 'Country_IN', 'Country_ME', 'Country_SA', 'Country_SP',\n",
       "       'Country_US'],\n",
       "      dtype='object')"
      ]
     },
     "execution_count": 42,
     "metadata": {},
     "output_type": "execute_result"
    }
   ],
   "source": [
    "scaled_q4_data.columns"
   ]
  },
  {
   "cell_type": "code",
   "execution_count": 43,
   "id": "3a3f99d0",
   "metadata": {},
   "outputs": [
    {
     "data": {
      "text/html": [
       "<table class=\"simpletable\">\n",
       "<caption>OLS Regression Results</caption>\n",
       "<tr>\n",
       "  <th>Dep. Variable:</th>     <td>MntFishProducts</td> <th>  R-squared:         </th> <td>   0.536</td>\n",
       "</tr>\n",
       "<tr>\n",
       "  <th>Model:</th>                   <td>OLS</td>       <th>  Adj. R-squared:    </th> <td>   0.528</td>\n",
       "</tr>\n",
       "<tr>\n",
       "  <th>Method:</th>             <td>Least Squares</td>  <th>  F-statistic:       </th> <td>   66.09</td>\n",
       "</tr>\n",
       "<tr>\n",
       "  <th>Date:</th>             <td>Sun, 09 May 2021</td> <th>  Prob (F-statistic):</th>  <td>  0.00</td> \n",
       "</tr>\n",
       "<tr>\n",
       "  <th>Time:</th>                 <td>02:19:09</td>     <th>  Log-Likelihood:    </th> <td>  1149.2</td>\n",
       "</tr>\n",
       "<tr>\n",
       "  <th>No. Observations:</th>      <td>  2214</td>      <th>  AIC:               </th> <td>  -2220.</td>\n",
       "</tr>\n",
       "<tr>\n",
       "  <th>Df Residuals:</th>          <td>  2175</td>      <th>  BIC:               </th> <td>  -1998.</td>\n",
       "</tr>\n",
       "<tr>\n",
       "  <th>Df Model:</th>              <td>    38</td>      <th>                     </th>     <td> </td>   \n",
       "</tr>\n",
       "<tr>\n",
       "  <th>Covariance Type:</th>      <td>nonrobust</td>    <th>                     </th>     <td> </td>   \n",
       "</tr>\n",
       "</table>\n",
       "<table class=\"simpletable\">\n",
       "<tr>\n",
       "                    <td></td>                      <th>coef</th>     <th>std err</th>      <th>t</th>      <th>P>|t|</th>  <th>[0.025</th>    <th>0.975]</th>  \n",
       "</tr>\n",
       "<tr>\n",
       "  <th>Intercept</th>                            <td>    0.0207</td> <td>    0.027</td> <td>    0.754</td> <td> 0.451</td> <td>   -0.033</td> <td>    0.075</td>\n",
       "</tr>\n",
       "<tr>\n",
       "  <th>Income</th>                               <td>    0.0753</td> <td>    0.049</td> <td>    1.539</td> <td> 0.124</td> <td>   -0.021</td> <td>    0.171</td>\n",
       "</tr>\n",
       "<tr>\n",
       "  <th>Days_Since_Enrolled</th>                  <td>    0.0276</td> <td>    0.013</td> <td>    2.204</td> <td> 0.028</td> <td>    0.003</td> <td>    0.052</td>\n",
       "</tr>\n",
       "<tr>\n",
       "  <th>Recency</th>                              <td>   -0.0118</td> <td>    0.011</td> <td>   -1.081</td> <td> 0.280</td> <td>   -0.033</td> <td>    0.010</td>\n",
       "</tr>\n",
       "<tr>\n",
       "  <th>MntWines</th>                             <td>   -0.0189</td> <td>    0.026</td> <td>   -0.726</td> <td> 0.468</td> <td>   -0.070</td> <td>    0.032</td>\n",
       "</tr>\n",
       "<tr>\n",
       "  <th>MntFruits</th>                            <td>    0.2284</td> <td>    0.021</td> <td>   10.786</td> <td> 0.000</td> <td>    0.187</td> <td>    0.270</td>\n",
       "</tr>\n",
       "<tr>\n",
       "  <th>MntMeatProducts</th>                      <td>    0.2121</td> <td>    0.043</td> <td>    4.955</td> <td> 0.000</td> <td>    0.128</td> <td>    0.296</td>\n",
       "</tr>\n",
       "<tr>\n",
       "  <th>MntSweetProducts</th>                     <td>    0.2749</td> <td>    0.027</td> <td>   10.218</td> <td> 0.000</td> <td>    0.222</td> <td>    0.328</td>\n",
       "</tr>\n",
       "<tr>\n",
       "  <th>MntGoldProds</th>                         <td>    0.1542</td> <td>    0.024</td> <td>    6.481</td> <td> 0.000</td> <td>    0.108</td> <td>    0.201</td>\n",
       "</tr>\n",
       "<tr>\n",
       "  <th>NumDealsPurchases</th>                    <td>   -0.0650</td> <td>    0.032</td> <td>   -2.041</td> <td> 0.041</td> <td>   -0.127</td> <td>   -0.003</td>\n",
       "</tr>\n",
       "<tr>\n",
       "  <th>NumWebPurchases</th>                      <td>    0.0404</td> <td>    0.044</td> <td>    0.926</td> <td> 0.354</td> <td>   -0.045</td> <td>    0.126</td>\n",
       "</tr>\n",
       "<tr>\n",
       "  <th>NumCatalogPurchases</th>                  <td>    0.1570</td> <td>    0.053</td> <td>    2.986</td> <td> 0.003</td> <td>    0.054</td> <td>    0.260</td>\n",
       "</tr>\n",
       "<tr>\n",
       "  <th>NumStorePurchases</th>                    <td>    0.0580</td> <td>    0.019</td> <td>    2.981</td> <td> 0.003</td> <td>    0.020</td> <td>    0.096</td>\n",
       "</tr>\n",
       "<tr>\n",
       "  <th>NumWebVisitsMonth</th>                    <td>   -0.1049</td> <td>    0.044</td> <td>   -2.394</td> <td> 0.017</td> <td>   -0.191</td> <td>   -0.019</td>\n",
       "</tr>\n",
       "<tr>\n",
       "  <th>AcceptedCmp3</th>                         <td>   -0.0145</td> <td>    0.013</td> <td>   -1.131</td> <td> 0.258</td> <td>   -0.040</td> <td>    0.011</td>\n",
       "</tr>\n",
       "<tr>\n",
       "  <th>AcceptedCmp4</th>                         <td>   -0.0177</td> <td>    0.014</td> <td>   -1.266</td> <td> 0.206</td> <td>   -0.045</td> <td>    0.010</td>\n",
       "</tr>\n",
       "<tr>\n",
       "  <th>AcceptedCmp5</th>                         <td>   -0.0657</td> <td>    0.015</td> <td>   -4.257</td> <td> 0.000</td> <td>   -0.096</td> <td>   -0.035</td>\n",
       "</tr>\n",
       "<tr>\n",
       "  <th>AcceptedCmp1</th>                         <td>    0.0698</td> <td>    0.015</td> <td>    4.725</td> <td> 0.000</td> <td>    0.041</td> <td>    0.099</td>\n",
       "</tr>\n",
       "<tr>\n",
       "  <th>AcceptedCmp2</th>                         <td>   -0.0219</td> <td>    0.029</td> <td>   -0.757</td> <td> 0.449</td> <td>   -0.079</td> <td>    0.035</td>\n",
       "</tr>\n",
       "<tr>\n",
       "  <th>Response</th>                             <td>   -0.0139</td> <td>    0.011</td> <td>   -1.298</td> <td> 0.194</td> <td>   -0.035</td> <td>    0.007</td>\n",
       "</tr>\n",
       "<tr>\n",
       "  <th>Complain</th>                             <td>   -0.0139</td> <td>    0.032</td> <td>   -0.434</td> <td> 0.664</td> <td>   -0.077</td> <td>    0.049</td>\n",
       "</tr>\n",
       "<tr>\n",
       "  <th>HasKid</th>                               <td>   -0.0030</td> <td>    0.009</td> <td>   -0.336</td> <td> 0.737</td> <td>   -0.021</td> <td>    0.015</td>\n",
       "</tr>\n",
       "<tr>\n",
       "  <th>HasTeen</th>                              <td>   -0.0371</td> <td>    0.008</td> <td>   -4.499</td> <td> 0.000</td> <td>   -0.053</td> <td>   -0.021</td>\n",
       "</tr>\n",
       "<tr>\n",
       "  <th>Age</th>                                  <td>    0.0385</td> <td>    0.029</td> <td>    1.332</td> <td> 0.183</td> <td>   -0.018</td> <td>    0.095</td>\n",
       "</tr>\n",
       "<tr>\n",
       "  <th>Education_Basic</th>                      <td>    0.0062</td> <td>    0.021</td> <td>    0.294</td> <td> 0.769</td> <td>   -0.035</td> <td>    0.048</td>\n",
       "</tr>\n",
       "<tr>\n",
       "  <th>Education_Master</th>                     <td>    0.0002</td> <td>    0.008</td> <td>    0.026</td> <td> 0.980</td> <td>   -0.015</td> <td>    0.015</td>\n",
       "</tr>\n",
       "<tr>\n",
       "  <th>Education_PhD</th>                        <td>   -0.0305</td> <td>    0.010</td> <td>   -2.924</td> <td> 0.003</td> <td>   -0.051</td> <td>   -0.010</td>\n",
       "</tr>\n",
       "<tr>\n",
       "  <th>Marital_Status_Married</th>               <td>    0.0004</td> <td>    0.011</td> <td>    0.034</td> <td> 0.973</td> <td>   -0.022</td> <td>    0.023</td>\n",
       "</tr>\n",
       "<tr>\n",
       "  <th>Marital_Status_Single</th>                <td>    0.0076</td> <td>    0.012</td> <td>    0.642</td> <td> 0.521</td> <td>   -0.016</td> <td>    0.031</td>\n",
       "</tr>\n",
       "<tr>\n",
       "  <th>Marital_Status_Together</th>              <td>    0.0144</td> <td>    0.011</td> <td>    1.262</td> <td> 0.207</td> <td>   -0.008</td> <td>    0.037</td>\n",
       "</tr>\n",
       "<tr>\n",
       "  <th>Marital_Status_Widow</th>                 <td>    0.0246</td> <td>    0.019</td> <td>    1.269</td> <td> 0.204</td> <td>   -0.013</td> <td>    0.063</td>\n",
       "</tr>\n",
       "<tr>\n",
       "  <th>Country_CA</th>                           <td>   -0.0055</td> <td>    0.015</td> <td>   -0.364</td> <td> 0.716</td> <td>   -0.035</td> <td>    0.024</td>\n",
       "</tr>\n",
       "<tr>\n",
       "  <th>Country_DE</th>                           <td>    0.0019</td> <td>    0.018</td> <td>    0.102</td> <td> 0.919</td> <td>   -0.034</td> <td>    0.037</td>\n",
       "</tr>\n",
       "<tr>\n",
       "  <th>Country_IN</th>                           <td>   -0.0058</td> <td>    0.017</td> <td>   -0.337</td> <td> 0.736</td> <td>   -0.039</td> <td>    0.028</td>\n",
       "</tr>\n",
       "<tr>\n",
       "  <th>Country_ME</th>                           <td>    0.1263</td> <td>    0.085</td> <td>    1.480</td> <td> 0.139</td> <td>   -0.041</td> <td>    0.294</td>\n",
       "</tr>\n",
       "<tr>\n",
       "  <th>Country_SA</th>                           <td>    0.0096</td> <td>    0.014</td> <td>    0.665</td> <td> 0.506</td> <td>   -0.019</td> <td>    0.038</td>\n",
       "</tr>\n",
       "<tr>\n",
       "  <th>Country_SP</th>                           <td>   -0.0002</td> <td>    0.013</td> <td>   -0.017</td> <td> 0.986</td> <td>   -0.025</td> <td>    0.025</td>\n",
       "</tr>\n",
       "<tr>\n",
       "  <th>Country_US</th>                           <td>    0.0038</td> <td>    0.019</td> <td>    0.205</td> <td> 0.838</td> <td>   -0.033</td> <td>    0.040</td>\n",
       "</tr>\n",
       "<tr>\n",
       "  <th>Marital_Status_Married:Education_PhD</th> <td>    0.0043</td> <td>    0.015</td> <td>    0.280</td> <td> 0.779</td> <td>   -0.026</td> <td>    0.035</td>\n",
       "</tr>\n",
       "</table>\n",
       "<table class=\"simpletable\">\n",
       "<tr>\n",
       "  <th>Omnibus:</th>       <td>519.973</td> <th>  Durbin-Watson:     </th> <td>   1.883</td>\n",
       "</tr>\n",
       "<tr>\n",
       "  <th>Prob(Omnibus):</th> <td> 0.000</td>  <th>  Jarque-Bera (JB):  </th> <td>2252.926</td>\n",
       "</tr>\n",
       "<tr>\n",
       "  <th>Skew:</th>          <td> 1.068</td>  <th>  Prob(JB):          </th> <td>    0.00</td>\n",
       "</tr>\n",
       "<tr>\n",
       "  <th>Kurtosis:</th>      <td> 7.456</td>  <th>  Cond. No.          </th> <td>    50.4</td>\n",
       "</tr>\n",
       "</table><br/><br/>Notes:<br/>[1] Standard Errors assume that the covariance matrix of the errors is correctly specified."
      ],
      "text/plain": [
       "<class 'statsmodels.iolib.summary.Summary'>\n",
       "\"\"\"\n",
       "                            OLS Regression Results                            \n",
       "==============================================================================\n",
       "Dep. Variable:        MntFishProducts   R-squared:                       0.536\n",
       "Model:                            OLS   Adj. R-squared:                  0.528\n",
       "Method:                 Least Squares   F-statistic:                     66.09\n",
       "Date:                Sun, 09 May 2021   Prob (F-statistic):               0.00\n",
       "Time:                        02:19:09   Log-Likelihood:                 1149.2\n",
       "No. Observations:                2214   AIC:                            -2220.\n",
       "Df Residuals:                    2175   BIC:                            -1998.\n",
       "Df Model:                          38                                         \n",
       "Covariance Type:            nonrobust                                         \n",
       "========================================================================================================\n",
       "                                           coef    std err          t      P>|t|      [0.025      0.975]\n",
       "--------------------------------------------------------------------------------------------------------\n",
       "Intercept                                0.0207      0.027      0.754      0.451      -0.033       0.075\n",
       "Income                                   0.0753      0.049      1.539      0.124      -0.021       0.171\n",
       "Days_Since_Enrolled                      0.0276      0.013      2.204      0.028       0.003       0.052\n",
       "Recency                                 -0.0118      0.011     -1.081      0.280      -0.033       0.010\n",
       "MntWines                                -0.0189      0.026     -0.726      0.468      -0.070       0.032\n",
       "MntFruits                                0.2284      0.021     10.786      0.000       0.187       0.270\n",
       "MntMeatProducts                          0.2121      0.043      4.955      0.000       0.128       0.296\n",
       "MntSweetProducts                         0.2749      0.027     10.218      0.000       0.222       0.328\n",
       "MntGoldProds                             0.1542      0.024      6.481      0.000       0.108       0.201\n",
       "NumDealsPurchases                       -0.0650      0.032     -2.041      0.041      -0.127      -0.003\n",
       "NumWebPurchases                          0.0404      0.044      0.926      0.354      -0.045       0.126\n",
       "NumCatalogPurchases                      0.1570      0.053      2.986      0.003       0.054       0.260\n",
       "NumStorePurchases                        0.0580      0.019      2.981      0.003       0.020       0.096\n",
       "NumWebVisitsMonth                       -0.1049      0.044     -2.394      0.017      -0.191      -0.019\n",
       "AcceptedCmp3                            -0.0145      0.013     -1.131      0.258      -0.040       0.011\n",
       "AcceptedCmp4                            -0.0177      0.014     -1.266      0.206      -0.045       0.010\n",
       "AcceptedCmp5                            -0.0657      0.015     -4.257      0.000      -0.096      -0.035\n",
       "AcceptedCmp1                             0.0698      0.015      4.725      0.000       0.041       0.099\n",
       "AcceptedCmp2                            -0.0219      0.029     -0.757      0.449      -0.079       0.035\n",
       "Response                                -0.0139      0.011     -1.298      0.194      -0.035       0.007\n",
       "Complain                                -0.0139      0.032     -0.434      0.664      -0.077       0.049\n",
       "HasKid                                  -0.0030      0.009     -0.336      0.737      -0.021       0.015\n",
       "HasTeen                                 -0.0371      0.008     -4.499      0.000      -0.053      -0.021\n",
       "Age                                      0.0385      0.029      1.332      0.183      -0.018       0.095\n",
       "Education_Basic                          0.0062      0.021      0.294      0.769      -0.035       0.048\n",
       "Education_Master                         0.0002      0.008      0.026      0.980      -0.015       0.015\n",
       "Education_PhD                           -0.0305      0.010     -2.924      0.003      -0.051      -0.010\n",
       "Marital_Status_Married                   0.0004      0.011      0.034      0.973      -0.022       0.023\n",
       "Marital_Status_Single                    0.0076      0.012      0.642      0.521      -0.016       0.031\n",
       "Marital_Status_Together                  0.0144      0.011      1.262      0.207      -0.008       0.037\n",
       "Marital_Status_Widow                     0.0246      0.019      1.269      0.204      -0.013       0.063\n",
       "Country_CA                              -0.0055      0.015     -0.364      0.716      -0.035       0.024\n",
       "Country_DE                               0.0019      0.018      0.102      0.919      -0.034       0.037\n",
       "Country_IN                              -0.0058      0.017     -0.337      0.736      -0.039       0.028\n",
       "Country_ME                               0.1263      0.085      1.480      0.139      -0.041       0.294\n",
       "Country_SA                               0.0096      0.014      0.665      0.506      -0.019       0.038\n",
       "Country_SP                              -0.0002      0.013     -0.017      0.986      -0.025       0.025\n",
       "Country_US                               0.0038      0.019      0.205      0.838      -0.033       0.040\n",
       "Marital_Status_Married:Education_PhD     0.0043      0.015      0.280      0.779      -0.026       0.035\n",
       "==============================================================================\n",
       "Omnibus:                      519.973   Durbin-Watson:                   1.883\n",
       "Prob(Omnibus):                  0.000   Jarque-Bera (JB):             2252.926\n",
       "Skew:                           1.068   Prob(JB):                         0.00\n",
       "Kurtosis:                       7.456   Cond. No.                         50.4\n",
       "==============================================================================\n",
       "\n",
       "Notes:\n",
       "[1] Standard Errors assume that the covariance matrix of the errors is correctly specified.\n",
       "\"\"\""
      ]
     },
     "execution_count": 43,
     "metadata": {},
     "output_type": "execute_result"
    }
   ],
   "source": [
    "q4_model = smf.ols('MntFishProducts ~ Income + Days_Since_Enrolled + Recency + MntWines + MntFruits + MntMeatProducts +\\\n",
    "                   MntSweetProducts + MntGoldProds + NumDealsPurchases + NumWebPurchases + NumCatalogPurchases +\\\n",
    "                   NumStorePurchases + NumWebVisitsMonth + AcceptedCmp3 + AcceptedCmp4 + AcceptedCmp5 + AcceptedCmp1 +\\\n",
    "                   AcceptedCmp2 + Response + Complain + HasKid + HasTeen + Age + Education_Basic + Education_Master +\\\n",
    "                   Education_PhD + Marital_Status_Married + Marital_Status_Single + Marital_Status_Together + Marital_Status_Widow +\\\n",
    "                   Country_CA + Country_DE + Country_IN + Country_ME + Country_SA + Country_SP + Country_US +\\\n",
    "                   Marital_Status_Married*Education_PhD', data=scaled_q4_data).fit()\n",
    "q4_model.summary()"
   ]
  },
  {
   "cell_type": "code",
   "execution_count": 44,
   "id": "4d4f1a20",
   "metadata": {},
   "outputs": [
    {
     "data": {
      "image/png": "[encoded data removed]",
      "text/plain": [
       "<Figure size 1008x504 with 1 Axes>"
      ]
     },
     "metadata": {
      "needs_background": "light"
     },
     "output_type": "display_data"
    }
   ],
   "source": [
    "coeffs = q4_model.params.sort_values(ascending=False)\n",
    "\n",
    "fig = plt.subplots(figsize=(14, 7))\n",
    "sns.barplot(coeffs.index, coeffs)\n",
    "plt.xticks(rotation=90)\n",
    "plt.ylabel('Coefficient')\n",
    "plt.xlabel('Variable')\n",
    "plt.title('Coefficient Value of MntFishProducts VS. Others')\n",
    "plt.show()"
   ]
  },
  {
   "cell_type": "markdown",
   "id": "02429afa",
   "metadata": {},
   "source": [
    "We will arbitrarily use -0.1 and 0.1 as the cutoff for the coefficients in order to narrow down the important factors. We will also plot the coefficient of the interaction term **Marital_Status_Married:Education_PhD** for comparison"
   ]
  },
  {
   "cell_type": "code",
   "execution_count": 45,
   "id": "85a5f033",
   "metadata": {},
   "outputs": [
    {
     "data": {
      "text/plain": [
       "MntSweetProducts       0.274859\n",
       "MntFruits              0.228417\n",
       "MntMeatProducts        0.212098\n",
       "NumCatalogPurchases    0.156965\n",
       "MntGoldProds           0.154190\n",
       "Country_ME             0.126281\n",
       "NumWebVisitsMonth     -0.104885\n",
       "dtype: float64"
      ]
     },
     "execution_count": 45,
     "metadata": {},
     "output_type": "execute_result"
    }
   ],
   "source": [
    "coeffs_narrow = coeffs[coeffs > 0.1].append(coeffs[coeffs<-0.1])\n",
    "coeffs_narrow = coeffs_narrow[~(coeffs_narrow.index == 'Intercept')]\n",
    "coeffs_narrow.append(coeffs[coeffs.index == 'Marital_Status_Married:Education_PhD'])\n",
    "\n",
    "coeffs_narrow"
   ]
  },
  {
   "cell_type": "code",
   "execution_count": 47,
   "id": "570fa5ad",
   "metadata": {},
   "outputs": [
    {
     "data": {
      "image/png": "[encoded data removed]",
      "text/plain": [
       "<Figure size 576x432 with 1 Axes>"
      ]
     },
     "metadata": {
      "needs_background": "light"
     },
     "output_type": "display_data"
    }
   ],
   "source": [
    "fig = plt.subplots(figsize=(8, 6))\n",
    "plt.bar(coeffs_narrow.index, coeffs_narrow)\n",
    "plt.bar('Marital_Status_Married:Education_PhD', coeffs[coeffs.index == 'Marital_Status_Married:Education_PhD'])\n",
    "plt.xticks(rotation=90)\n",
    "plt.ylabel('Coefficient')\n",
    "plt.xlabel('Variable')\n",
    "plt.title('Coefficient Value of MntFishProducts VS. Significant Factors and Married PhD')\n",
    "plt.show()"
   ]
  },
  {
   "cell_type": "markdown",
   "id": "b68764ab",
   "metadata": {},
   "source": [
    "Based on the model above, the factors that are significantly related to the amount spent on fish are: **MntSweetProducts**, **MntFruits**, **MntMeatProducts**, **NumCatalogPurchases**, **MntGoldProds**, **Country_ME**, and **NumWebVisitsMonth**.\n",
    "\n",
    "This means that customers who tend to spend on other products will also spend on fish products. Interestingly, customer in Mexico also tend to buy more fish.\n",
    "\n",
    "In comparison, the interaction term of Married PhD customers have a very low coefficient. Thus, it does not have a significant relationship with the amount spent on fish"
   ]
  },
  {
   "cell_type": "code",
   "execution_count": null,
   "id": "73c6bc35",
   "metadata": {},
   "outputs": [],
   "source": []
  }
 ],
 "metadata": {
  "kernelspec": {
   "display_name": "Python 3",
   "language": "python",
   "name": "python3"
  },
  "language_info": {
   "codemirror_mode": {
    "name": "ipython",
    "version": 3
   },
   "file_extension": ".py",
   "mimetype": "text/x-python",
   "name": "python",
   "nbconvert_exporter": "python",
   "pygments_lexer": "ipython3",
   "version": "3.8.5"
  }
 },
 "nbformat": 4,
 "nbformat_minor": 5
}
